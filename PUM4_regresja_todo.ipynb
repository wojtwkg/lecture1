{
  "nbformat": 4,
  "nbformat_minor": 0,
  "metadata": {
    "colab": {
      "provenance": []
    },
    "kernelspec": {
      "name": "python3",
      "display_name": "Python 3"
    },
    "language_info": {
      "name": "python"
    }
  },
  "cells": [
    {
      "cell_type": "markdown",
      "source": [
        "zaczytanie niezbędnych bibliotek"
      ],
      "metadata": {
        "id": "G-H2tGj_rHHK"
      }
    },
    {
      "cell_type": "code",
      "source": [
        "import numpy as np\n",
        "import pandas as pd\n",
        "import matplotlib.pyplot as plt\n",
        "from sklearn.linear_model import LinearRegression, Ridge, Lasso\n",
        "from sklearn.model_selection import train_test_split\n",
        "from sklearn.metrics import mean_squared_error, mean_absolute_error, r2_score, explained_variance_score\n",
        "from sklearn.preprocessing import StandardScaler"
      ],
      "metadata": {
        "id": "LXSU9M5cpqjr"
      },
      "execution_count": null,
      "outputs": []
    },
    {
      "cell_type": "markdown",
      "source": [
        "zaczytaj dane dotyczace sprzedazy"
      ],
      "metadata": {
        "id": "1awwEGFVqI0a"
      }
    },
    {
      "cell_type": "code",
      "source": [
        "# pip install kagglehub[pandas-datasets]\n",
        "import kagglehub\n",
        "from kagglehub import KaggleDatasetAdapter\n",
        "\n",
        "# Set the path to the file you'd like to load\n",
        "file_path = \"\"\n",
        "\n",
        "# Load the latest version\n",
        "df = kagglehub.load_dataset(\n",
        "  KaggleDatasetAdapter.PANDAS,\n",
        "  \"rkiattisak/salaly-prediction-for-beginer\",\n",
        "  file_path,\n",
        "  # Provide any additional arguments like\n",
        "  # sql_query or pandas_kwargs. See the\n",
        "  # documenation for more information:\n",
        "  # https://github.com/Kaggle/kagglehub/blob/main/README.md#kaggledatasetadapterpandas\n",
        ")\n",
        "\n",
        "print(\"First 5 records:\", df.head())"
      ],
      "metadata": {
        "id": "Sm2mgUpAq7Gp"
      },
      "execution_count": null,
      "outputs": []
    },
    {
      "cell_type": "markdown",
      "source": [
        "preprocessing\n",
        "\n",
        "1.   sprawdż typy danych\n",
        "2.   zmien etykiedy na zmienne liczbowe\n",
        "3. w przypadku brakujacych danych uzupelnij (w przypadku etykiet) najczesciej wystepującą wartością lub średnią wartością\n",
        "\n"
      ],
      "metadata": {
        "id": "xVJo9AwurLNH"
      }
    },
    {
      "cell_type": "code",
      "source": [],
      "metadata": {
        "id": "gCa-ZzXqr2He"
      },
      "execution_count": null,
      "outputs": []
    },
    {
      "cell_type": "markdown",
      "source": [
        "Podziel zbiór danych na testowy i treningowy w stosunku 30/70"
      ],
      "metadata": {
        "id": "ru2yFiYJr2jF"
      }
    },
    {
      "cell_type": "code",
      "source": [],
      "metadata": {
        "id": "Qa3i7JvesOF5"
      },
      "execution_count": null,
      "outputs": []
    },
    {
      "cell_type": "markdown",
      "source": [
        "Stworz model regresji liniowej korzystajac z parametrów domyślnych\n",
        "Przykład dokumentacji: https://scikit-learn.org/stable/auto_examples/linear_model/plot_ols.html#sphx-glr-auto-examples-linear-model-plot-ols-py"
      ],
      "metadata": {
        "id": "RFcl8kJdsQHz"
      }
    },
    {
      "cell_type": "code",
      "source": [],
      "metadata": {
        "id": "GQSgW39Tsgtz"
      },
      "execution_count": null,
      "outputs": []
    },
    {
      "cell_type": "markdown",
      "source": [
        "ocen model na zbiorze testowym za pomocą miar: średni błąd kwadratowy, średni błąd absolutny, wynik wyjaśnionej wariancji"
      ],
      "metadata": {
        "id": "iuqRGy8Dshn5"
      }
    },
    {
      "cell_type": "code",
      "source": [],
      "metadata": {
        "id": "rNnuBQvot5OT"
      },
      "execution_count": null,
      "outputs": []
    },
    {
      "cell_type": "markdown",
      "source": [
        "spróbuj poprawić model, zacznij od danych, sprawdz korelacje, znormalizuj"
      ],
      "metadata": {
        "id": "ExaOoOu5u6q_"
      }
    },
    {
      "cell_type": "code",
      "source": [],
      "metadata": {
        "id": "UrpqL3sLvH4y"
      },
      "execution_count": null,
      "outputs": []
    },
    {
      "cell_type": "markdown",
      "source": [],
      "metadata": {
        "id": "_IzPHcqJvzCO"
      }
    },
    {
      "cell_type": "markdown",
      "source": [
        "Zbuduj model regresji odpornej i przetestuj jego predykcje"
      ],
      "metadata": {
        "id": "YVWhFj-mvRw0"
      }
    },
    {
      "cell_type": "markdown",
      "source": [
        "Wykreś przewidziane i faktyczne wartości obu modeli (przykład w dokumentacji: https://scikit-learn.org/stable/auto_examples/ensemble/plot_voting_regressor.html#sphx-glr-auto-examples-ensemble-plot-voting-regressor-py)"
      ],
      "metadata": {
        "id": "FuME6rMZt53Z"
      }
    },
    {
      "cell_type": "code",
      "source": [],
      "metadata": {
        "id": "5V6NZWFHuqlE"
      },
      "execution_count": null,
      "outputs": []
    },
    {
      "cell_type": "markdown",
      "source": [
        "Zmodyfikuj kod, zeby zwizualizować wynik lepszego z modeli"
      ],
      "metadata": {
        "id": "RODeXgYlusPI"
      }
    },
    {
      "cell_type": "code",
      "source": [
        "import matplotlib.pyplot as plt\n",
        "\n",
        "from sklearn.metrics import PredictionErrorDisplay\n",
        "\n",
        "fig, axs = plt.subplots(ncols=2, figsize=(8, 4))\n",
        "PredictionErrorDisplay.from_predictions(\n",
        "    y,\n",
        "    y_pred=y_pred,\n",
        "    kind=\"actual_vs_predicted\",\n",
        "    subsample=100,\n",
        "    ax=axs[0],\n",
        "    random_state=0,\n",
        ")\n",
        "axs[0].set_title(\"Actual vs. Predicted values\")\n",
        "PredictionErrorDisplay.from_predictions(\n",
        "    y,\n",
        "    y_pred=y_pred,\n",
        "    kind=\"residual_vs_predicted\",\n",
        "    subsample=100,\n",
        "    ax=axs[1],\n",
        "    random_state=0,\n",
        ")\n",
        "axs[1].set_title(\"Residuals vs. Predicted Values\")\n",
        "fig.suptitle(\"Plotting cross-validated predictions\")\n",
        "plt.tight_layout()\n",
        "plt.show()"
      ],
      "metadata": {
        "id": "DLVd2VkAuySx"
      },
      "execution_count": null,
      "outputs": []
    },
    {
      "cell_type": "markdown",
      "source": [],
      "metadata": {
        "id": "6P2u6x9qsObf"
      }
    }
  ]
}